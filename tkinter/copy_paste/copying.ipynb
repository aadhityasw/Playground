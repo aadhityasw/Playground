{
 "cells": [
  {
   "cell_type": "code",
   "execution_count": null,
   "metadata": {},
   "outputs": [],
   "source": [
    "import tkinter as tk\n",
    "import numpy as np\n",
    "\n",
    "window = tk.Tk()\n",
    "\n",
    "canvas = tk.Canvas(window, width=120, height=100)\n",
    "canvas.pack(fill=\"both\", expand=1)\n",
    "line1 = canvas.create_line(30, 50, 100, 50, fill=\"red\", width=2)\n",
    "count = 0\n",
    "\n",
    "def update():\n",
    "    \"\"\" This function updates the line coordinates and calls itself 62 times \"\"\"\n",
    "    global count\n",
    "    count += 1\n",
    "    canvas.coords(line1, 30, 50, 100, 50 + 30*np.sin(count/5))\n",
    "    if count <= 62:\n",
    "        window.after(100, update)\n",
    "\n",
    "# Start the animation\n",
    "update()\n",
    "\n",
    "# Launch the app\n",
    "window.mainloop()"
   ]
  },
  {
   "cell_type": "code",
   "execution_count": null,
   "metadata": {},
   "outputs": [],
   "source": [
    "import tkinter\n",
    "window = tkinter.Tk()\n",
    "window.title(\"GUI\")\n",
    "canvas = tkinter.Canvas(window, width = 500, height = 500)\n",
    "canvas.pack()\n",
    "line1 = canvas.create_line(25, 25, 250, 150)\n",
    "line2 = canvas.create_line(25, 250, 250, 150, fill = \"red\")\n",
    "rect = canvas.create_rectangle(500, 25, 175, 75, fill = \"green\")\n",
    "window.mainloop()"
   ]
  },
  {
   "cell_type": "code",
   "execution_count": null,
   "metadata": {},
   "outputs": [],
   "source": [
    "import tkinter\n",
    "\n",
    "def make_menu(w):\n",
    "    global the_menu\n",
    "    the_menu = tkinter.Menu(w, tearoff=0)\n",
    "    the_menu.add_command(label=\"Cut\")\n",
    "    the_menu.add_command(label=\"Copy\")\n",
    "    the_menu.add_command(label=\"Paste\")\n",
    "\n",
    "def show_menu(e):\n",
    "    print(type(e))\n",
    "    w = e.widget\n",
    "    the_menu.entryconfigure(\"Cut\",\n",
    "    command=lambda: w.event_generate(\"<<Cut>>\"))\n",
    "    the_menu.entryconfigure(\"Copy\",\n",
    "    command=lambda: w.event_generate(\"<<Copy>>\"))\n",
    "    the_menu.entryconfigure(\"Paste\",\n",
    "    command=lambda: w.event_generate(\"<<Paste>>\"))\n",
    "    the_menu.tk.call(\"tk_popup\", the_menu, e.x_root, e.y_root)\n",
    "\n",
    "t = tkinter.Tk()\n",
    "make_menu(t)\n",
    "\n",
    "e1 = tkinter.Entry(); e1.pack()\n",
    "e2 = tkinter.Entry(); e2.pack()\n",
    "e1.bind_class(\"Entry\", \"<Button-3><ButtonRelease-3>\", show_menu)\n",
    "\n",
    "t.mainloop()"
   ]
  }
 ],
 "metadata": {
  "kernelspec": {
   "display_name": "Python 3",
   "language": "python",
   "name": "python3"
  },
  "language_info": {
   "codemirror_mode": {
    "name": "ipython",
    "version": 3
   },
   "file_extension": ".py",
   "mimetype": "text/x-python",
   "name": "python",
   "nbconvert_exporter": "python",
   "pygments_lexer": "ipython3",
   "version": "3.6.8"
  }
 },
 "nbformat": 4,
 "nbformat_minor": 2
}
